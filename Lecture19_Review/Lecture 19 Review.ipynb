{
 "cells": [
  {
   "cell_type": "markdown",
   "metadata": {
    "collapsed": true
   },
   "source": [
    "# Error Backpropagation Review\n",
    "\n",
    "* We will start this class with a review of the derivation of backpropagation and a discussion of implementation\n",
    "\n",
    "# Dropout\n",
    "\n",
    "* If time, we will introduce the concept of dropout.  \n",
    "* This is a method to help prevent overfitting and regularize a network.\n",
    "* The approach attempts to minimize co-dependencies between neurons and enhance robustness of network\n",
    "* Dropout has one parameter $p$.  In each iteration, you randomly exclude each neuron with probability $1-p$ during the training pass (in both forward and backward propagation).  Each iteration, you resample which neurons to keep and which to dropout. \n",
    "* Dropout is related to the concept of ensemble learning with the unique case that the various models in the ensemble share parameters and these models are \"combined\" into a single model/network at test as opposed to training a fusion model or doing a simple average between outputs. \n",
    "* During test, you use all neurons all the time. \n",
    "* Please see and read: https://www.cs.toronto.edu/~hinton/absps/JMLRdropout.pdf"
   ]
  },
  {
   "cell_type": "markdown",
   "metadata": {},
   "source": [
    "# Exam Review Next Class\n",
    "\n",
    "* Next class we will hold an optional exam review in class. \n",
    "* I have created a discussion board on Canvas for you to post questions you would like me to cover during the review.  \n",
    "* If you see a question someone else has posted that you would also like to see covered during the review, please \"like\" the question. \n",
    "* I will cover posted questions in decreasing order of the number of likes. \n",
    "* Please post your questions (and like them) before 9pm on Wednesday, 11/7. "
   ]
  },
  {
   "cell_type": "code",
   "execution_count": null,
   "metadata": {
    "collapsed": true
   },
   "outputs": [],
   "source": []
  }
 ],
 "metadata": {
  "kernelspec": {
   "display_name": "Python 3",
   "language": "python",
   "name": "python3"
  },
  "language_info": {
   "codemirror_mode": {
    "name": "ipython",
    "version": 3
   },
   "file_extension": ".py",
   "mimetype": "text/x-python",
   "name": "python",
   "nbconvert_exporter": "python",
   "pygments_lexer": "ipython3",
   "version": "3.5.4"
  }
 },
 "nbformat": 4,
 "nbformat_minor": 0
}
